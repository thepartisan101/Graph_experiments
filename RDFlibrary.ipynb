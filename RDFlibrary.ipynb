{
 "cells": [
  {
   "cell_type": "markdown",
   "metadata": {},
   "source": [
    "## Working with RDFlib for Python\n",
    "##### By Ruben Seoane\n",
    "Based on offcial documentatioon of the RDFlib project:https://rdflib.readthedocs.io/en/stable/gettingstarted.html"
   ]
  },
  {
   "cell_type": "markdown",
   "metadata": {},
   "source": [
    "## Installation and basic usage"
   ]
  },
  {
   "cell_type": "code",
   "execution_count": null,
   "metadata": {},
   "outputs": [],
   "source": [
    "pip install rdflib"
   ]
  },
  {
   "cell_type": "code",
   "execution_count": 2,
   "metadata": {},
   "outputs": [
    {
     "name": "stdout",
     "output_type": "stream",
     "text": [
      "Graph has 87 statements.\n"
     ]
    }
   ],
   "source": [
    "import rdflib\n",
    "\n",
    "g = rdflib.Graph()\n",
    "result = g.parse(\"http://www.w3.org/People/Berners-Lee/card\")\n",
    "print(\"Graph has %s statements.\" % len(g))"
   ]
  },
  {
   "cell_type": "code",
   "execution_count": 3,
   "metadata": {},
   "outputs": [],
   "source": [
    "for subj, pred, obj in g:\n",
    "    if (subj, pred, obj) not in g:\n",
    "        raise Exception(\"It better be!\")\n",
    "\n",
    "s = g.serialize(format='n3')"
   ]
  },
  {
   "cell_type": "markdown",
   "metadata": {},
   "source": [
    "A more detailed example:"
   ]
  },
  {
   "cell_type": "code",
   "execution_count": 4,
   "metadata": {},
   "outputs": [
    {
     "name": "stdout",
     "output_type": "stream",
     "text": [
      "--- printing raw triples ---\n",
      "(rdflib.term.BNode('Ne5f1489d97504025924d7f6a11f574e0'), rdflib.term.URIRef('http://xmlns.com/foaf/0.1/mbox'), rdflib.term.URIRef('mailto:donna@example.org'))\n",
      "(rdflib.term.BNode('Ne5f1489d97504025924d7f6a11f574e0'), rdflib.term.URIRef('http://xmlns.com/foaf/0.1/name'), rdflib.term.Literal('Donna Fales'))\n",
      "(rdflib.term.BNode('Ne5f1489d97504025924d7f6a11f574e0'), rdflib.term.URIRef('http://www.w3.org/1999/02/22-rdf-syntax-ns#type'), rdflib.term.URIRef('http://xmlns.com/foaf/0.1/Person'))\n",
      "(rdflib.term.BNode('Ne5f1489d97504025924d7f6a11f574e0'), rdflib.term.URIRef('http://xmlns.com/foaf/0.1/nick'), rdflib.term.Literal('donna', lang='foo'))\n"
     ]
    }
   ],
   "source": [
    "from rdflib import Graph, Literal, BNode, Namespace, RDF, URIRef\n",
    "from rdflib.namespace import DC, FOAF\n",
    "\n",
    "g = Graph()\n",
    "\n",
    "# Creating an identifier to use as subject for Donna\n",
    "donna = BNode()\n",
    "\n",
    "# Add triples using store's add method\n",
    "g.add((donna, RDF.type, FOAF.Person))\n",
    "g.add((donna, FOAF.nick, Literal('donna', lang='foo')))\n",
    "g.add((donna, FOAF.name, Literal('Donna Fales')))\n",
    "g.add((donna, FOAF.mbox, URIRef('mailto:donna@example.org')))\n",
    "\n",
    "# Iterate over triples in store and print them out\n",
    "print(\"--- printing raw triples ---\")\n",
    "for s, p, o in g:\n",
    "    print((s, p, o))\n"
   ]
  },
  {
   "cell_type": "code",
   "execution_count": 5,
   "metadata": {},
   "outputs": [
    {
     "name": "stdout",
     "output_type": "stream",
     "text": [
      "--- printing mboxes ---\n",
      "mailto:donna@example.org\n"
     ]
    }
   ],
   "source": [
    "# For each foaf:Person in the store print out its mbox property\n",
    "print(\"--- printing mboxes ---\")\n",
    "for person in g.subjects(RDF.type, FOAF.Person):\n",
    "    for mbox in g.objects(person, FOAF.mbox):\n",
    "        print(mbox)"
   ]
  },
  {
   "cell_type": "code",
   "execution_count": 7,
   "metadata": {},
   "outputs": [
    {
     "name": "stdout",
     "output_type": "stream",
     "text": [
      "b'@prefix dc: <http://purl.org/dc/elements/1.1/> .\\n@prefix foaf: <http://xmlns.com/foaf/0.1/> .\\n@prefix rdf: <http://www.w3.org/1999/02/22-rdf-syntax-ns#> .\\n@prefix rdfs: <http://www.w3.org/2000/01/rdf-schema#> .\\n@prefix xml: <http://www.w3.org/XML/1998/namespace> .\\n@prefix xsd: <http://www.w3.org/2001/XMLSchema#> .\\n\\n[] a foaf:Person ;\\n    foaf:mbox <mailto:donna@example.org> ;\\n    foaf:name \"Donna Fales\" ;\\n    foaf:nick \"donna\"@foo .\\n\\n'\n"
     ]
    }
   ],
   "source": [
    "# Bind a few prefix, namespace pairs for more readable output\n",
    "g.bind('dc', DC)\n",
    "g.bind('foaf', FOAF)\n",
    "\n",
    "print(g. serialize(format='n3'))"
   ]
  },
  {
   "cell_type": "markdown",
   "metadata": {},
   "source": [
    "## Loading and saving RDF\n",
    "### Reading an NT file\n",
    "RDF data has various syntaxes (xml, n3, ntriples, trix, etc) that you might want to read. The simplest format is ntriples, a line-based format. Create the file demo.nt in the current directory with these two lines:"
   ]
  },
  {
   "cell_type": "code",
   "execution_count": null,
   "metadata": {},
   "outputs": [],
   "source": [
    "<http://bigasterisk.com/foaf.rdf#drewp> <http://www.w3.org/1999/02/22-rdf-syntax-ns#type> <http://xmlns.com/foaf/0.1/Person> .\n",
    "<http://bigasterisk.com/foaf.rdf#drewp> <http://example.com/says> \"Hello world\" ."
   ]
  },
  {
   "cell_type": "code",
   "execution_count": null,
   "metadata": {},
   "outputs": [],
   "source": [
    "from rdflib import Graph\n",
    "\n",
    "g = Graph()\n",
    "g.parse('demo.nt', format='nt')\n",
    "\n",
    "leng(g)"
   ]
  },
  {
   "cell_type": "markdown",
   "metadata": {},
   "source": [
    "### Reading Remote Graphs\n"
   ]
  },
  {
   "cell_type": "code",
   "execution_count": 13,
   "metadata": {},
   "outputs": [
    {
     "data": {
      "text/plain": [
       "62"
      ]
     },
     "execution_count": 13,
     "metadata": {},
     "output_type": "execute_result"
    }
   ],
   "source": [
    "g.parse('http://bigasterisk.com/foaf.rdf')\n",
    "len(g)"
   ]
  },
  {
   "cell_type": "markdown",
   "metadata": {},
   "source": [
    "## Creating RDF Triples\n",
    "### Creating Nodes\n",
    "RDF is a graph where the nodes are URI references, Blank Nodes or Literals\n",
    "URIRefs and BNodes can both be thought of as resources, such a person, a company, a web-site, etc. \n",
    "- **BNode** is a node where the exact URI is not known.\n",
    "- **URIRefs** are also used to represent the properties/predicates in the RDF graph. \n",
    "- **Literals** represent attribute values, such as a name, a date, a number, etc."
   ]
  },
  {
   "cell_type": "code",
   "execution_count": 15,
   "metadata": {},
   "outputs": [],
   "source": [
    "from rdflib import URIRef, BNode, Literal\n",
    "\n",
    "bob = URIRef(\"http://example.org/people/Bob\")\n",
    "linda = BNode() # a GUID will be generated\n",
    "\n",
    "name = Literal('Bob') #passes a string\n",
    "age = Literal(24) #passing a python int\n",
    "height = Literal(76.5) # passing a python float"
   ]
  },
  {
   "cell_type": "markdown",
   "metadata": {},
   "source": [
    "For creating many URIRefs in the same namespace, i.e. URIs with the same prefix, RDFLib has the **rdflib.namespace.Namespace** class:"
   ]
  },
  {
   "cell_type": "code",
   "execution_count": 16,
   "metadata": {},
   "outputs": [
    {
     "data": {
      "text/plain": [
       "rdflib.term.URIRef('http://example.org/people/eve')"
      ]
     },
     "execution_count": 16,
     "metadata": {},
     "output_type": "execute_result"
    }
   ],
   "source": [
    "from rdflib import Namespace\n",
    "\n",
    "n = Namespace('http://example.org/people/')\n",
    "n.bob  # = rdflib.term.URIRef(u'http://example.org/people/bob')\n",
    "n.eve  # = rdflib.term.URIRef(u'http://example.org/people/eve')"
   ]
  },
  {
   "cell_type": "code",
   "execution_count": 19,
   "metadata": {},
   "outputs": [
    {
     "data": {
      "text/plain": [
       "rdflib.term.URIRef('http://www.w3.org/1999/02/22-rdf-syntax-ns#type')"
      ]
     },
     "execution_count": 19,
     "metadata": {},
     "output_type": "execute_result"
    }
   ],
   "source": [
    "from rdflib.namespace import RDF, FOAF\n",
    "RDF.type"
   ]
  },
  {
   "cell_type": "code",
   "execution_count": 18,
   "metadata": {},
   "outputs": [
    {
     "data": {
      "text/plain": [
       "rdflib.term.URIRef('http://xmlns.com/foaf/0.1/knows')"
      ]
     },
     "execution_count": 18,
     "metadata": {},
     "output_type": "execute_result"
    }
   ],
   "source": [
    "FOAF.knows"
   ]
  },
  {
   "cell_type": "code",
   "execution_count": null,
   "metadata": {},
   "outputs": [],
   "source": []
  }
 ],
 "metadata": {
  "kernelspec": {
   "display_name": "Python 3",
   "language": "python",
   "name": "python3"
  },
  "language_info": {
   "codemirror_mode": {
    "name": "ipython",
    "version": 3
   },
   "file_extension": ".py",
   "mimetype": "text/x-python",
   "name": "python",
   "nbconvert_exporter": "python",
   "pygments_lexer": "ipython3",
   "version": "3.6.4"
  }
 },
 "nbformat": 4,
 "nbformat_minor": 2
}
